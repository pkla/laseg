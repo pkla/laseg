{
 "cells": [
  {
   "cell_type": "code",
   "execution_count": 1,
   "metadata": {},
   "outputs": [],
   "source": [
    "# IMPORTS\n",
    "try:\n",
    "    import SimpleITK as sitk\n",
    "\n",
    "    import k3d\n",
    "\n",
    "    import matplotlib.pyplot as plt\n",
    "    import matplotlib.animation as animation\n",
    "\n",
    "    from IPython.display import HTML, display\n",
    "\n",
    "    import numpy as np\n",
    "    import pandas as pd\n",
    "\n",
    "    import os\n",
    "\n",
    "    from tqdm import tqdm\n",
    "    \n",
    "    import etl\n",
    "    from etl import resample_directory\n",
    "    from etl import animate_2d_plot\n",
    "    from etl import validate_bucket_download\n",
    "    from etl import k3d_plot\n",
    "\n",
    "    \n",
    "except ImportError:\n",
    "    !python3 -m pip install numpy itk vtk torch SimpleITK gsutil k3d tqdm -q --no-warn-script-location\n",
    "    \n",
    "    ## MUST RUN THESE TO ENABLE K3D VISUALIZATION!\n",
    "    !jupyter nbextension install --user --py k3d\n",
    "    !jupyter nbextension enable k3d --user --py\n",
    "    \n",
    "    import IPython\n",
    "    IPython.Application.instance().kernel.do_shutdown(True)"
   ]
  },
  {
   "cell_type": "markdown",
   "metadata": {},
   "source": [
    "### Copy images and masks from GCS bucket to local directory structure"
   ]
  },
  {
   "cell_type": "code",
   "execution_count": 2,
   "metadata": {},
   "outputs": [],
   "source": [
    "# LOCAL DIRECTORY TREE STRUCTURE\n",
    "\n",
    "#########################\n",
    "# \\_ la-seg             #  <- GCS Bucket\n",
    "#     \\_ hi-res         #  <- Fetched from GCS\n",
    "#         |_ masks      #\n",
    "#           \\ ...       #\n",
    "#         \\_ images     #\n",
    "#           \\ ...       #\n",
    "#     \\_ lo-res         #  -> Uploaded to GCS\n",
    "#         |_ masks64    #\n",
    "#           \\ ...       #\n",
    "#         \\_ images64   #\n",
    "#           \\ ...       #\n",
    "#########################\n",
    "\n",
    "### DEFINE PATHS\n",
    "data_path = './la-seg/'                                     # GLOBALVAR\n",
    "\n",
    "hi_res_path = os.path.join(data_path, 'hi-res')             # GLOBALVAR\n",
    "hi_res_images_path = os.path.join(hi_res_path, 'images')    # GLOBALVAR\n",
    "hi_res_masks_path = os.path.join(hi_res_path, 'masks')      # GLOBALVAR\n",
    "\n",
    "lo_res_path = os.path.join(data_path, 'lo-res')             # GLOBALVAR\n",
    "lo_res_images_path = os.path.join(lo_res_path, 'images64')  # GLOBALVAR\n",
    "lo_res_masks_path = os.path.join(lo_res_path, 'masks64')    # GLOBALVAR\n",
    "\n",
    "def safe_mkdir(path):\n",
    "    if isinstance(path, list):\n",
    "        [safe_mkdir(p) for p in path]\n",
    "    elif not os.path.exists(path):\n",
    "        os.mkdir(path)\n",
    "\n",
    "safe_mkdir([data_path,\n",
    "            hi_res_path, hi_res_images_path, hi_res_masks_path,\n",
    "            lo_res_path, lo_res_images_path, lo_res_masks_path])"
   ]
  },
  {
   "cell_type": "code",
   "execution_count": 3,
   "metadata": {
    "scrolled": false
   },
   "outputs": [
    {
     "name": "stdout",
     "output_type": "stream",
     "text": [
      "Updated property [core/project].\n",
      "\n",
      "\n",
      "Updates are available for some Cloud SDK components.  To install them,\n",
      "please run:\n",
      "  $ gcloud components update\n",
      "\n"
     ]
    }
   ],
   "source": [
    "# PREREQUISITE NOTES:\n",
    "# 1. IF YOU DO NOT HAVE THE GCLOUD SDK INSTALLED, INSTALL IT NOW\n",
    "# 2. IF GCLOUD IS NOT YET AUTHENTICATED TO YOUR GOOGLE ACCOUNT,\n",
    "# RUN THIS COMMAND IN A TERMINAL ENVIRONMENT TO AUTHENTICATE:\n",
    "# !gcloud auth login --activate --launch-browser\n",
    "\n",
    "project_id = 'medicalimagerepresentation01'\n",
    "!gcloud config set project {project_id}\n",
    "\n",
    "# UNCOMMENT THESE LINES TO FETCH DATA FROM GCS; LEAVE COMMENTED IF\n",
    "# ALREADY FETCHED ONCE. IF FETCHING, BE SURE TO RUN\n",
    "# remove_undersized_images() BELOW\n",
    "# !gsutil -m cp -r gs://la-seg/hi-res/masks/*.gz {hi_res_masks_path}\n",
    "# !gsutil -m cp -r gs://la-seg/hi-res/images/*.gz {hi_res_images_path}\n",
    "\n",
    "# REMOVE IMAGES WITH DEPTH < 125 mm:\n",
    "# ./la-seg/hi-res/images/MAIN-751.nii.gz and ./la-seg/hi-res/masks/SEG-751.nii.gz\n",
    "# ./la-seg/hi-res/images/MAIN-752.nii.gz and ./la-seg/hi-res/masks/SEG-752.nii.gz\n",
    "\n",
    "# def remove_undersized_images(min_millimeters=(0, 0, 125)):\n",
    "#     img_files = sorted(os.listdir(hi_res_images_path))\n",
    "#     msk_files = sorted(os.listdir(hi_res_masks_path))\n",
    "#     for img_name, msk_name in zip(img_files, msk_files):\n",
    "#         img_path = os.path.join(hi_res_images_path, img_name)\n",
    "#         msk_path = os.path.join(hi_res_masks_path, msk_name)\n",
    "\n",
    "#         img = sitk.ReadImage(img_path)\n",
    "#         msk = sitk.ReadImage(msk_path)\n",
    "\n",
    "#         img_size_vox = np.array(img.GetSize())\n",
    "#         msk_size_vox = np.array(msk.GetSize())\n",
    "\n",
    "#         assert(np.array_equal(img_size_vox, msk_size_vox))\n",
    "\n",
    "#         img_spacing = np.array(img.GetSpacing())\n",
    "#         msk_spacing = np.array(img.GetSpacing())\n",
    "\n",
    "#         assert(np.array_equal(img_spacing, msk_spacing))\n",
    "\n",
    "#         img_size_mm = img_size_vox * img_spacing\n",
    "#         msk_size_mm = msk_size_vox * msk_spacing\n",
    "\n",
    "#         is_undersized = (np.less(img_size_mm, min_millimeters)).any()\n",
    "\n",
    "#         if is_undersized:\n",
    "#             print(f'Removing {img_path} and {msk_path}')\n",
    "#             os.remove(img_path)\n",
    "#             os.remove(msk_path)\n",
    "\n",
    "# remove_undersized_images()"
   ]
  },
  {
   "cell_type": "code",
   "execution_count": 4,
   "metadata": {},
   "outputs": [
    {
     "name": "stdout",
     "output_type": "stream",
     "text": [
      "Bucket download passed all tests.\n"
     ]
    }
   ],
   "source": [
    "if validate_bucket_download(hi_res_images_path, hi_res_masks_path):\n",
    "    print('Bucket download passed all tests.')\n",
    "else:\n",
    "    raise ValueError('Bucket download did not pass all tests.')"
   ]
  },
  {
   "cell_type": "markdown",
   "metadata": {},
   "source": [
    "# Resampling"
   ]
  },
  {
   "cell_type": "code",
   "execution_count": 5,
   "metadata": {
    "scrolled": false
   },
   "outputs": [],
   "source": [
    "def resample_masks_and_images(validate=True):\n",
    "    from etl import resample_directory\n",
    "    print('Resampling masks...')\n",
    "    resample_directory(hi_res_masks_path, lo_res_masks_path,\n",
    "                   image = 'NiftiImageIO', is_label=True,\n",
    "                   n_jobs=-1)\n",
    "\n",
    "    print('Resampling images...')\n",
    "    resample_directory(hi_res_images_path, lo_res_images_path,\n",
    "                   image = 'NiftiImageIO', is_label=False,\n",
    "                   n_jobs=-1)\n",
    "\n",
    "    if not validate:\n",
    "        return\n",
    "    \n",
    "    ### LOOK FOR MASKS AND IMAGE FILES\n",
    "    masks_list = os.listdir(lo_res_masks_path)\n",
    "    images_list = os.listdir(lo_res_images_path)\n",
    "\n",
    "    ############## VERIFY DATA INTEGRITY ###############\n",
    "    num_masks = len(masks_list)\n",
    "    num_images = len(images_list) \n",
    "\n",
    "    print('Testing data integrity...', end='')\n",
    "\n",
    "    ### 1. VERIFY MATCHING NUMBER OF MASKS AND IMAGES\n",
    "    if num_masks != num_images:\n",
    "        raise FileNotFoundError(f\"Unequal number of masks and images in {lo_res_path}\")\n",
    "\n",
    "    masks_list.sort()\n",
    "    images_list.sort()\n",
    "\n",
    "    image_mask_pairs = list(zip(images_list, masks_list))\n",
    "\n",
    "    ### 2. VERIFY 1-1 CORRESPONDENCE BETWEEN MASKS AND IMAGES\n",
    "    for pair in image_mask_pairs:\n",
    "        name_1 = ''.join(pair[1].split('.')[0].split('-')[1:])\n",
    "        name_2 = ''.join(pair[0].split('.')[0].split('-')[1:])\n",
    "        if (name_1 != name_2):\n",
    "            msg = f'Incomplete correspondence between masks and images in {lo_res_path}: '\n",
    "            msg += f'found non-matching (mask, image) pair {name_1, name_2} from files {pair}.'\n",
    "            raise FileNotFoundError(msg)\n",
    "    \n",
    "    ### 3. VERIFY 1-1 CORRESPONDENCE BETWEEN HI-RES AND LO-RES\n",
    "    hi_res_pairs = list(zip(sorted(os.listdir(hi_res_masks_path)), sorted(os.listdir(hi_res_images_path))))\n",
    "    \n",
    "    for hi_res_pair, lo_res_pair in zip(hi_res_pairs, image_mask_pairs):\n",
    "        lo_res_name_1 = ''.join(lo_res_pair[0].split('.')[0].split('-')[1:])\n",
    "        lo_res_name_2 = ''.join(lo_res_pair[1].split('.')[0].split('-')[1:])\n",
    "        hi_res_name_1 = ''.join(hi_res_pair[0].split('.')[0].split('-')[1:])\n",
    "        hi_res_name_2 = ''.join(hi_res_pair[1].split('.')[0].split('-')[1:])\n",
    "        \n",
    "        if lo_res_name_1 != hi_res_name_1 or lo_res_name_2 != hi_res_name_2:\n",
    "            msg = f'Incomplete correspondence between hi-res and lo-res in {lo_res_path} and {hi_res_path}. '\n",
    "            msg += f'Hi-res pair {hi_res_pair} does not match {lo_res_pair}. Did you finish resampling?'\n",
    "            raise FileNotFoundError(msg)\n",
    "\n",
    "    print('Passed!')\n",
    "    \n",
    "    ################# VERIFY LABEL QUANTIZATION ##################\n",
    "    \n",
    "    print('Testing label quantization...', end='')\n",
    "    \n",
    "    for mask in os.listdir(lo_res_masks_path):\n",
    "        lo_res_mask_path = os.path.join(lo_res_masks_path, mask)\n",
    "        sample_mask_lo_res = sitk.ReadImage(lo_res_mask_path)\n",
    "        unique_values = list(pd.Series(sitk.GetArrayFromImage(sample_mask_lo_res).ravel()).unique())\n",
    "        if unique_values != [0,1]:\n",
    "            raise ValueError('Masks arrays not quantized to the set {0, 1}. Did you pass is_label=True to resample_directory()?')\n",
    "\n",
    "    print(f'Passed! Quantized to {unique_values}')\n",
    "\n",
    "# if resample_masks_and_images(validate=True):\n",
    "#     print('Resampling validation passed all tests.')"
   ]
  },
  {
   "cell_type": "code",
   "execution_count": 6,
   "metadata": {},
   "outputs": [],
   "source": [
    "# sample_mask_lo_res = sitk.ReadImage(os.path.join(lo_res_masks_path, sorted(os.listdir(lo_res_masks_path))[1]))\n",
    "# sample_mask_hi_res = sitk.ReadImage(os.path.join(hi_res_masks_path, sorted(os.listdir(hi_res_masks_path))[1]))\n",
    "# sample_image_lo_res = sitk.ReadImage(os.path.join(lo_res_images_path, sorted(os.listdir(lo_res_images_path))[1]))\n",
    "# sample_image_hi_res = sitk.ReadImage(os.path.join(hi_res_images_path, sorted(os.listdir(hi_res_images_path))[1]))"
   ]
  },
  {
   "cell_type": "code",
   "execution_count": 7,
   "metadata": {},
   "outputs": [],
   "source": [
    "import etl\n",
    "from etl import get_images\n",
    "\n",
    "num_imgs = 45\n",
    "\n",
    "sample_images_hi_res = []#get_images(hi_res_images_path, n=num_imgs)\n",
    "sample_masks_hi_res = get_images(hi_res_masks_path, n=num_imgs)"
   ]
  },
  {
   "cell_type": "code",
   "execution_count": 8,
   "metadata": {
    "scrolled": true
   },
   "outputs": [
    {
     "name": "stderr",
     "output_type": "stream",
     "text": [
      " 16%|█▋        | 7/43 [00:00<00:00, 66.85it/s]"
     ]
    },
    {
     "name": "stdout",
     "output_type": "stream",
     "text": [
      "Resampling mask spacing\n"
     ]
    },
    {
     "name": "stderr",
     "output_type": "stream",
     "text": [
      "100%|██████████| 43/43 [00:00<00:00, 101.21it/s]\n",
      "3it [00:00, 20.57it/s]"
     ]
    },
    {
     "name": "stdout",
     "output_type": "stream",
     "text": [
      "Cropping masks\n",
      "0: 1, 0, 1\n",
      "180 180 134\n",
      "1: 1, 0, 0\n",
      "180 180 134\n",
      "2: 1, 0, 0\n",
      "180 180 134\n",
      "3: 1, 0, 1\n",
      "180 180 134\n",
      "4: "
     ]
    },
    {
     "name": "stderr",
     "output_type": "stream",
     "text": [
      "9it [00:00, 23.41it/s]"
     ]
    },
    {
     "name": "stdout",
     "output_type": "stream",
     "text": [
      "0, 0, 0\n",
      "180 180 134\n",
      "5: 1, 0, 1\n",
      "180 180 134\n",
      "6: 1, 0, 0\n",
      "180 180 134\n",
      "7: 1, 1, 1\n",
      "180 180 134\n",
      "8: 1, 0, 0\n",
      "180 180 134\n",
      "9: 1, 0, 0\n",
      "180 180 134\n",
      "10: "
     ]
    },
    {
     "name": "stderr",
     "output_type": "stream",
     "text": [
      "15it [00:00, 24.89it/s]"
     ]
    },
    {
     "name": "stdout",
     "output_type": "stream",
     "text": [
      "1, 0, 1\n",
      "180 180 134\n",
      "11: 1, 0, 0\n",
      "180 180 134\n",
      "12: 1, 0, 1\n",
      "180 180 134\n",
      "13: 1, 0, 1\n",
      "180 180 134\n",
      "14: 1, 0, 0\n",
      "180 180 134\n",
      "15: 1, 0, 0\n",
      "180 180 134\n"
     ]
    },
    {
     "name": "stderr",
     "output_type": "stream",
     "text": [
      "21it [00:00, 24.79it/s]"
     ]
    },
    {
     "name": "stdout",
     "output_type": "stream",
     "text": [
      "16: 1, 0, 0\n",
      "180 180 134\n",
      "17: 1, 0, 0\n",
      "180 180 134\n",
      "18: 1, 0, 1\n",
      "180 180 134\n",
      "19: 1, 0, 0\n",
      "180 180 134\n",
      "20: 1, 0, 0\n",
      "180 180 134\n",
      "21: "
     ]
    },
    {
     "name": "stderr",
     "output_type": "stream",
     "text": [
      "\r",
      "24it [00:00, 24.47it/s]"
     ]
    },
    {
     "name": "stdout",
     "output_type": "stream",
     "text": [
      "1, 0, 0\n",
      "180 180 134\n",
      "22: 1, 0, 0\n",
      "180 180 134\n",
      "23: 1, 0, 0\n",
      "180 180 134\n",
      "24: 1, 0, 0\n",
      "180 180 134\n",
      "25: 1, 0, 0\n",
      "180 180 134\n",
      "26: "
     ]
    },
    {
     "name": "stderr",
     "output_type": "stream",
     "text": [
      "30it [00:01, 22.60it/s]"
     ]
    },
    {
     "name": "stdout",
     "output_type": "stream",
     "text": [
      "1, 0, 0\n",
      "180 180 134\n",
      "27: Bounding box on mask 27 does not meet minimum size requirement for cropping; cropping will trespass minimum bounding box.\n",
      "1, 0, 0\n",
      "180 180 134\n",
      "28: 1, 0, 0\n",
      "180 180 134\n",
      "29: Bounding box on mask 29 does not meet minimum size requirement for cropping; cropping will trespass minimum bounding box.\n",
      "1, 0, 0\n",
      "180 180 134\n",
      "30: 1, 0, 1\n",
      "180 180 134\n",
      "31: "
     ]
    },
    {
     "name": "stderr",
     "output_type": "stream",
     "text": [
      "36it [00:01, 22.42it/s]"
     ]
    },
    {
     "name": "stdout",
     "output_type": "stream",
     "text": [
      "1, 0, 0\n",
      "180 180 134\n",
      "32: 1, 0, 0\n",
      "180 180 134\n",
      "33: Bounding box on mask 33 does not meet minimum size requirement for cropping; cropping will trespass minimum bounding box.\n",
      "1, 0, 0\n",
      "180 180 134\n",
      "34: 0, 1, 0\n",
      "180 180 134\n",
      "35: 1, 0, 0\n",
      "180 180 134\n",
      "36: "
     ]
    },
    {
     "name": "stderr",
     "output_type": "stream",
     "text": [
      "\r",
      "39it [00:01, 22.50it/s]"
     ]
    },
    {
     "name": "stdout",
     "output_type": "stream",
     "text": [
      "0, 0, 0\n",
      "180 180 134\n",
      "37: 1, 0, 0\n",
      "180 180 134\n",
      "38: 1, 0, 0\n",
      "180 180 134\n",
      "39: 1, 0, 0\n",
      "180 180 134\n",
      "40: 1, 0, 0\n",
      "180 180 134\n",
      "41: "
     ]
    },
    {
     "name": "stderr",
     "output_type": "stream",
     "text": [
      "43it [00:01, 23.86it/s]\n",
      "100%|██████████| 43/43 [00:00<00:00, 1283.35it/s]"
     ]
    },
    {
     "name": "stdout",
     "output_type": "stream",
     "text": [
      "1, 0, 0\n",
      "180 180 134\n",
      "42: 1, 0, 0\n",
      "180 180 134\n",
      "Resampling mask size\n"
     ]
    },
    {
     "name": "stderr",
     "output_type": "stream",
     "text": [
      "\n"
     ]
    }
   ],
   "source": [
    "from etl import resampling_pipeline\n",
    "aug_masks = resampling_pipeline(sample_images_hi_res, sample_masks_hi_res, masks_only=True, n_jobs=1)"
   ]
  },
  {
   "cell_type": "code",
   "execution_count": 9,
   "metadata": {},
   "outputs": [],
   "source": [
    "# for i in range(num_imgs)[0:5]:\n",
    "#     print(f'Augmented mask #{i}')\n",
    "#     display(HTML(animate_2d_plot(aug_masks[i]).to_jshtml()))"
   ]
  },
  {
   "cell_type": "code",
   "execution_count": 10,
   "metadata": {},
   "outputs": [],
   "source": [
    "n = 6"
   ]
  },
  {
   "cell_type": "code",
   "execution_count": 11,
   "metadata": {
    "scrolled": false
   },
   "outputs": [
    {
     "data": {
      "application/vnd.jupyter.widget-view+json": {
       "model_id": "ff5bfb44d03b416687ceac213f66734a",
       "version_major": 2,
       "version_minor": 0
      },
      "text/plain": [
       "Output()"
      ]
     },
     "metadata": {},
     "output_type": "display_data"
    }
   ],
   "source": [
    "k3d_plot(aug_masks[n])#, color_range=[100, 300])"
   ]
  },
  {
   "cell_type": "code",
   "execution_count": 12,
   "metadata": {},
   "outputs": [
    {
     "data": {
      "application/vnd.jupyter.widget-view+json": {
       "model_id": "d5f4a84d98d042ceb21c4cab56169153",
       "version_major": 2,
       "version_minor": 0
      },
      "text/plain": [
       "Output()"
      ]
     },
     "metadata": {},
     "output_type": "display_data"
    }
   ],
   "source": [
    "k3d_plot(etl.resample_image_standardize(aug_masks[n], out_size=(180, 180, 134), is_label=True))"
   ]
  },
  {
   "cell_type": "code",
   "execution_count": 13,
   "metadata": {},
   "outputs": [
    {
     "data": {
      "text/plain": [
       "(241, 241, 228)"
      ]
     },
     "execution_count": 13,
     "metadata": {},
     "output_type": "execute_result"
    }
   ],
   "source": [
    "img = etl.resample_image(sample_masks_hi_res[0], is_label=True)\n",
    "shape = img.GetSize()\n",
    "shape"
   ]
  },
  {
   "cell_type": "code",
   "execution_count": 14,
   "metadata": {
    "scrolled": false
   },
   "outputs": [
    {
     "data": {
      "application/vnd.jupyter.widget-view+json": {
       "model_id": "977d74630e4b44edb6f8832a6766964a",
       "version_major": 2,
       "version_minor": 0
      },
      "text/plain": [
       "interactive(children=(IntSlider(value=128, description='x0', max=256), IntSlider(value=384, description='x1', …"
      ]
     },
     "metadata": {},
     "output_type": "display_data"
    },
    {
     "data": {
      "text/plain": [
       "<function __main__.this_image(img, x0, x1, y0, y1, x)>"
      ]
     },
     "execution_count": 14,
     "metadata": {},
     "output_type": "execute_result"
    }
   ],
   "source": [
    "import IPython\n",
    "from ipywidgets import interact, interactive, fixed, interact_manual\n",
    "\n",
    "def imshow_sitk(img):\n",
    "    return plt.imshow(sitk.GetArrayFromImage(img))\n",
    "\n",
    "def this_image(img, x0, x1, y0, y1, x):\n",
    "    shape = img.GetSize()\n",
    "    \n",
    "    x1 = min(shape[0], x1)\n",
    "    y1 = min(shape[1], y1)\n",
    "\n",
    "    imshow_sitk(img[x0:x1,y0:y1,x])\n",
    "\n",
    "#   imshow_sitk(etl.resample_image(sample_masks_hi_res[0], is_label=True)[13:193,x,46:180])\n",
    "img0 = sample_masks_hi_res[n]\n",
    "shape = img0.GetSize()\n",
    "\n",
    "interact(this_image, x0 = (0, shape[0]//2), x1 = (shape[0]//2, shape[0]), y0 = (0, shape[1]//2), y1 = (shape[1]//2, shape[1]), img = fixed(img0), x = (0, shape[2]-1))\n"
   ]
  },
  {
   "cell_type": "code",
   "execution_count": 15,
   "metadata": {},
   "outputs": [
    {
     "data": {
      "application/vnd.jupyter.widget-view+json": {
       "model_id": "0ccc821e241f4741ab0e585e57c3b1db",
       "version_major": 2,
       "version_minor": 0
      },
      "text/plain": [
       "interactive(children=(IntSlider(value=55, description='x0', max=110), IntSlider(value=165, description='x1', m…"
      ]
     },
     "metadata": {},
     "output_type": "display_data"
    },
    {
     "data": {
      "text/plain": [
       "<function __main__.this_image(img, x0, x1, y0, y1, x)>"
      ]
     },
     "execution_count": 15,
     "metadata": {},
     "output_type": "execute_result"
    }
   ],
   "source": [
    "img = etl.resample_image(sample_masks_hi_res[n], is_label=True)\n",
    "shape = img.GetSize()\n",
    "\n",
    "interact(this_image, x0 = (0, shape[0]//2), x1 = (shape[0]//2, shape[0]), y0 = (0, shape[1]//2), y1 = (shape[1]//2, shape[1]), img = fixed(img), x = (0, shape[2]-1))"
   ]
  },
  {
   "cell_type": "code",
   "execution_count": 16,
   "metadata": {
    "scrolled": false
   },
   "outputs": [
    {
     "data": {
      "application/vnd.jupyter.widget-view+json": {
       "model_id": "71ed05c2828448b5b5836f8ee849b696",
       "version_major": 2,
       "version_minor": 0
      },
      "text/plain": [
       "interactive(children=(IntSlider(value=16, description='x0', max=32), IntSlider(value=48, description='x1', max…"
      ]
     },
     "metadata": {},
     "output_type": "display_data"
    },
    {
     "data": {
      "text/plain": [
       "<function __main__.this_image(img, x0, x1, y0, y1, x)>"
      ]
     },
     "execution_count": 16,
     "metadata": {},
     "output_type": "execute_result"
    }
   ],
   "source": [
    "shape = aug_masks[n].GetSize()\n",
    "interact(this_image, x0 = (0, shape[0]//2), x1 = (shape[0]//2, shape[0]), y0 = (0, shape[1]//2), y1 = (shape[1]//2, shape[1]), img = fixed(aug_masks[n]), x = (0, shape[2]-1))"
   ]
  },
  {
   "cell_type": "code",
   "execution_count": 17,
   "metadata": {},
   "outputs": [
    {
     "data": {
      "application/vnd.jupyter.widget-view+json": {
       "model_id": "dbf4b4a619ad46fbb07f0c491c8f7a5a",
       "version_major": 2,
       "version_minor": 0
      },
      "text/plain": [
       "interactive(children=(IntSlider(value=16, description='x0', max=32), IntSlider(value=48, description='x1', max…"
      ]
     },
     "metadata": {},
     "output_type": "display_data"
    },
    {
     "data": {
      "text/plain": [
       "<function __main__.this_image(img, x0, x1, y0, y1, x)>"
      ]
     },
     "execution_count": 17,
     "metadata": {},
     "output_type": "execute_result"
    }
   ],
   "source": [
    "img3 = etl.resample_image_standardize(img, is_label=True)\n",
    "shape = img3.GetSize()\n",
    "interact(this_image, x0 = (0, shape[0]//2), x1 = (shape[0]//2, shape[0]), y0 = (0, shape[1]//2), y1 = (shape[1]//2, shape[1]), img = fixed(img3), x = (0, shape[2]-1))"
   ]
  },
  {
   "cell_type": "code",
   "execution_count": 18,
   "metadata": {
    "scrolled": false
   },
   "outputs": [
    {
     "data": {
      "application/vnd.jupyter.widget-view+json": {
       "model_id": "a36a4286338a403f83985c8802f8df45",
       "version_major": 2,
       "version_minor": 0
      },
      "text/plain": [
       "interactive(children=(IntSlider(value=16, description='x0', max=32), IntSlider(value=48, description='x1', max…"
      ]
     },
     "metadata": {},
     "output_type": "display_data"
    },
    {
     "data": {
      "text/plain": [
       "<function __main__.this_image(img, x0, x1, y0, y1, x)>"
      ]
     },
     "execution_count": 18,
     "metadata": {},
     "output_type": "execute_result"
    }
   ],
   "source": [
    "img2 = etl.resample_image_standardize(etl.resample_image(sample_masks_hi_res[n], is_label=True), is_label=True)\n",
    "shape = img2.GetSize()\n",
    "interact(this_image, x0 = (0, shape[0]//2), x1 = (shape[0]//2, shape[0]), y0 = (0, shape[1]//2), y1 = (shape[1]//2, shape[1]), img = fixed(img2), x = (0, shape[2]-1))"
   ]
  },
  {
   "cell_type": "code",
   "execution_count": 19,
   "metadata": {},
   "outputs": [
    {
     "data": {
      "text/plain": [
       "(220, 220, 175)"
      ]
     },
     "execution_count": 19,
     "metadata": {},
     "output_type": "execute_result"
    }
   ],
   "source": [
    "img.GetSize()"
   ]
  },
  {
   "cell_type": "markdown",
   "metadata": {},
   "source": [
    "## Testing with dummy image"
   ]
  },
  {
   "cell_type": "code",
   "execution_count": 20,
   "metadata": {},
   "outputs": [
    {
     "data": {
      "application/vnd.jupyter.widget-view+json": {
       "model_id": "82a6d1ea47f94e10839b14f2fda11569",
       "version_major": 2,
       "version_minor": 0
      },
      "text/plain": [
       "Output()"
      ]
     },
     "metadata": {},
     "output_type": "display_data"
    },
    {
     "data": {
      "application/vnd.jupyter.widget-view+json": {
       "model_id": "84ee482cb28d45d29504e68f5123cdd8",
       "version_major": 2,
       "version_minor": 0
      },
      "text/plain": [
       "interactive(children=(IntSlider(value=16, description='x0', max=32), IntSlider(value=48, description='x1', max…"
      ]
     },
     "metadata": {},
     "output_type": "display_data"
    },
    {
     "data": {
      "text/plain": [
       "<function __main__.this_image(img, x0, x1, y0, y1, x)>"
      ]
     },
     "execution_count": 20,
     "metadata": {},
     "output_type": "execute_result"
    }
   ],
   "source": [
    "grid = sitk.GridSource(outputPixelType=sitk.sitkUInt16, size=(220,220,175), \n",
    "                sigma=(8, 8, 8), gridSpacing=(32,32,32))\n",
    "k3d_plot(grid)\n",
    "\n",
    "grid_standard = etl.resample_image_standardize(grid, is_label=True)\n",
    "shape = grid_standard.GetSize()\n",
    "interact(this_image, x0 = (0, shape[0]//2), x1 = (shape[0]//2, shape[0]), y0 = (0, shape[1]//2), y1 = (shape[1]//2, shape[1]), img = fixed(grid_standard), x = (0, shape[2]-1))"
   ]
  },
  {
   "cell_type": "markdown",
   "metadata": {},
   "source": [
    "# Visualizations\n"
   ]
  },
  {
   "cell_type": "code",
   "execution_count": 21,
   "metadata": {},
   "outputs": [],
   "source": [
    "from etl import k3d_plot"
   ]
  },
  {
   "cell_type": "code",
   "execution_count": 22,
   "metadata": {},
   "outputs": [],
   "source": [
    "heart_id = 1"
   ]
  },
  {
   "cell_type": "markdown",
   "metadata": {},
   "source": [
    "## Segmentations\n",
    "### Lo-res"
   ]
  },
  {
   "cell_type": "code",
   "execution_count": 23,
   "metadata": {
    "scrolled": true
   },
   "outputs": [],
   "source": [
    "#k3d_plot(sample_masks_lo_res[heart_id])"
   ]
  },
  {
   "cell_type": "markdown",
   "metadata": {},
   "source": [
    "### Hi-res"
   ]
  },
  {
   "cell_type": "code",
   "execution_count": 24,
   "metadata": {
    "scrolled": false
   },
   "outputs": [],
   "source": [
    "#k3d_plot(sample_masks_hi_res[heart_id])"
   ]
  },
  {
   "cell_type": "markdown",
   "metadata": {},
   "source": [
    "## Images\n",
    "### Lo-res"
   ]
  },
  {
   "cell_type": "code",
   "execution_count": 25,
   "metadata": {
    "scrolled": false
   },
   "outputs": [],
   "source": [
    "#k3d_plot(sample_images_lo_res[heart_id], color_range=[100, 300])"
   ]
  },
  {
   "cell_type": "markdown",
   "metadata": {},
   "source": [
    "### Hi-res"
   ]
  },
  {
   "cell_type": "code",
   "execution_count": 26,
   "metadata": {},
   "outputs": [],
   "source": [
    "#k3d_plot(sample_images_hi_res[heart_id], color_range=[100, 300]) "
   ]
  },
  {
   "cell_type": "code",
   "execution_count": null,
   "metadata": {},
   "outputs": [],
   "source": []
  },
  {
   "cell_type": "code",
   "execution_count": null,
   "metadata": {},
   "outputs": [],
   "source": []
  }
 ],
 "metadata": {
  "kernelspec": {
   "display_name": "Python 3",
   "language": "python",
   "name": "python3"
  },
  "language_info": {
   "codemirror_mode": {
    "name": "ipython",
    "version": 3
   },
   "file_extension": ".py",
   "mimetype": "text/x-python",
   "name": "python",
   "nbconvert_exporter": "python",
   "pygments_lexer": "ipython3",
   "version": "3.6.9"
  }
 },
 "nbformat": 4,
 "nbformat_minor": 4
}
