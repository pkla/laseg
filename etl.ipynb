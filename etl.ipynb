{
 "cells": [
  {
   "cell_type": "code",
   "execution_count": 1,
   "metadata": {},
   "outputs": [],
   "source": [
    "try:\n",
    "    import SimpleITK as sitk\n",
    "\n",
    "    import k3d\n",
    "    import matplotlib.pyplot as plt\n",
    "    import matplotlib.animation as animation\n",
    "    from IPython.display import HTML, display\n",
    "\n",
    "    import os\n",
    "    import numpy as np\n",
    "    import pandas as pd\n",
    "    \n",
    "    import etl\n",
    "    \n",
    "except ImportError:\n",
    "    !python3 -m pip install numpy itk vtk torch SimpleITK gsutil k3d tqdm -q --no-warn-script-location\n",
    "    ## MUST RUN THESE TO ENABLE K3D VISUALIZATION!\n",
    "    !jupyter nbextension install --user --py k3d\n",
    "    !jupyter nbextension enable k3d --user --py\n",
    "    \n",
    "    print(\"Restart kernel!\")\n",
    "    import IPython\n",
    "    IPython.Application.instance().kernel.do_shutdown(True)"
   ]
  },
  {
   "cell_type": "markdown",
   "metadata": {},
   "source": [
    "### Copy images and masks from GCS bucket to local directory structure"
   ]
  },
  {
   "cell_type": "code",
   "execution_count": 2,
   "metadata": {},
   "outputs": [],
   "source": [
    "# LOCAL DIRECTORY TREE STRUCTURE\n",
    "\n",
    "#########################\n",
    "# \\_ la-seg             #  <- GCS Bucket\n",
    "#     \\_ hi-res         #  <- Fetched from GCS\n",
    "#         |_ masks      #\n",
    "#           \\ ...       #\n",
    "#         \\_ images     #\n",
    "#           \\ ...       #\n",
    "#     \\_ lo-res         #  -> Uploaded to GCS\n",
    "#         |_ masks64    #\n",
    "#           \\ ...       #\n",
    "#         \\_ images64   #\n",
    "#           \\ ...       #\n",
    "#########################\n",
    "\n",
    "### DEFINE PATHS\n",
    "data_path = './la-seg/'                                     # GLOBALVAR\n",
    "\n",
    "hi_res_path = os.path.join(data_path, 'hi-res')             # GLOBALVAR\n",
    "hi_res_images_path = os.path.join(hi_res_path, 'images')    # GLOBALVAR\n",
    "hi_res_masks_path = os.path.join(hi_res_path, 'masks')      # GLOBALVAR\n",
    "\n",
    "lo_res_path = os.path.join(data_path, 'lo-res')             # GLOBALVAR\n",
    "lo_res_images_path = os.path.join(lo_res_path, 'images64')  # GLOBALVAR\n",
    "lo_res_masks_path = os.path.join(lo_res_path, 'masks64')    # GLOBALVAR\n",
    "\n",
    "etl.safe_mkdir([data_path,\n",
    "                hi_res_path, hi_res_images_path, hi_res_masks_path,\n",
    "                lo_res_path, lo_res_images_path, lo_res_masks_path])"
   ]
  },
  {
   "cell_type": "code",
   "execution_count": 3,
   "metadata": {
    "scrolled": false
   },
   "outputs": [
    {
     "name": "stdout",
     "output_type": "stream",
     "text": [
      "Updated property [core/project].\r\n"
     ]
    }
   ],
   "source": [
    "# PREREQUISITE NOTES:\n",
    "# 1. IF YOU DO NOT HAVE THE GCLOUD SDK INSTALLED, INSTALL IT NOW\n",
    "# 2. IF GCLOUD IS NOT YET AUTHENTICATED TO YOUR GOOGLE ACCOUNT,\n",
    "# RUN THIS COMMAND IN A TERMINAL ENVIRONMENT TO AUTHENTICATE:\n",
    "# !gcloud auth login --activate --launch-browser\n",
    "\n",
    "project_id = 'medicalimagerepresentation01'\n",
    "!gcloud config set project {project_id}\n",
    "\n",
    "# UNCOMMENT THESE LINES TO FETCH DATA FROM GCS; LEAVE COMMENTED IF\n",
    "# ALREADY FETCHED ONCE. IF FETCHING, BE SURE TO RUN\n",
    "# remove_undersized_images() BELOW\n",
    "# !gsutil -m cp -r gs://la-seg/hi-res/masks/*.gz {hi_res_masks_path}\n",
    "# !gsutil -m cp -r gs://la-seg/hi-res/images/*.gz {hi_res_images_path}\n",
    "\n",
    "# REMOVE IMAGES WITH DEPTH < 125 mm:\n",
    "# ./la-seg/hi-res/images/MAIN-751.nii.gz and ./la-seg/hi-res/masks/SEG-751.nii.gz\n",
    "# ./la-seg/hi-res/images/MAIN-752.nii.gz and ./la-seg/hi-res/masks/SEG-752.nii.gz\n",
    "\n",
    "# def remove_undersized_images(min_millimeters=(0, 0, 125)):\n",
    "#     img_files = sorted(os.listdir(hi_res_images_path))\n",
    "#     msk_files = sorted(os.listdir(hi_res_masks_path))\n",
    "#     for img_name, msk_name in zip(img_files, msk_files):\n",
    "#         img_path = os.path.join(hi_res_images_path, img_name)\n",
    "#         msk_path = os.path.join(hi_res_masks_path, msk_name)\n",
    "\n",
    "#         img = sitk.ReadImage(img_path)\n",
    "#         msk = sitk.ReadImage(msk_path)\n",
    "\n",
    "#         img_size_vox = np.array(img.GetSize())\n",
    "#         msk_size_vox = np.array(msk.GetSize())\n",
    "\n",
    "#         assert(np.array_equal(img_size_vox, msk_size_vox))\n",
    "\n",
    "#         img_spacing = np.array(img.GetSpacing())\n",
    "#         msk_spacing = np.array(img.GetSpacing())\n",
    "\n",
    "#         assert(np.array_equal(img_spacing, msk_spacing))\n",
    "\n",
    "#         img_size_mm = img_size_vox * img_spacing\n",
    "#         msk_size_mm = msk_size_vox * msk_spacing\n",
    "\n",
    "#         is_undersized = (np.less(img_size_mm, min_millimeters)).any()\n",
    "\n",
    "#         if is_undersized:\n",
    "#             print(f'Removing {img_path} and {msk_path}')\n",
    "#             os.remove(img_path)\n",
    "#             os.remove(msk_path)\n",
    "\n",
    "# remove_undersized_images()"
   ]
  },
  {
   "cell_type": "code",
   "execution_count": 4,
   "metadata": {},
   "outputs": [
    {
     "name": "stdout",
     "output_type": "stream",
     "text": [
      "Bucket download passed all tests.\n"
     ]
    }
   ],
   "source": [
    "if etl.validate_bucket_download(hi_res_images_path, hi_res_masks_path):\n",
    "    print('Bucket download passed all tests.')\n",
    "else:\n",
    "    raise ValueError('Bucket download did not pass all tests.')"
   ]
  },
  {
   "cell_type": "markdown",
   "metadata": {},
   "source": [
    "# Resampling"
   ]
  },
  {
   "cell_type": "code",
   "execution_count": 5,
   "metadata": {
    "scrolled": false
   },
   "outputs": [
    {
     "name": "stdout",
     "output_type": "stream",
     "text": [
      "Beginning augmentation.\n",
      "Finished in 42.6 s\n",
      "Testing data integrity...Passed!\n",
      "Testing label quantization...Passed! Quantized to [0, 1]\n",
      "Passed! Quantized to [0, 1]\n",
      "Passed! Quantized to [0, 1]\n",
      "Passed! Quantized to [0, 1]\n",
      "Passed! Quantized to [0, 1]\n",
      "Passed! Quantized to [0, 1]\n",
      "Passed! Quantized to [0, 1]\n",
      "Passed! Quantized to [0, 1]\n",
      "Passed! Quantized to [0, 1]\n",
      "Passed! Quantized to [0, 1]\n",
      "Passed! Quantized to [0, 1]\n",
      "Passed! Quantized to [0, 1]\n",
      "Passed! Quantized to [0, 1]\n",
      "Passed! Quantized to [0, 1]\n",
      "Passed! Quantized to [0, 1]\n",
      "Passed! Quantized to [0, 1]\n",
      "Passed! Quantized to [0, 1]\n",
      "Passed! Quantized to [0, 1]\n",
      "Passed! Quantized to [0, 1]\n",
      "Passed! Quantized to [0, 1]\n",
      "Passed! Quantized to [0, 1]\n",
      "Passed! Quantized to [0, 1]\n",
      "Passed! Quantized to [0, 1]\n",
      "Passed! Quantized to [0, 1]\n",
      "Passed! Quantized to [0, 1]\n",
      "Passed! Quantized to [0, 1]\n",
      "Passed! Quantized to [0, 1]\n",
      "Passed! Quantized to [0, 1]\n",
      "Passed! Quantized to [0, 1]\n",
      "Passed! Quantized to [0, 1]\n",
      "Passed! Quantized to [0, 1]\n",
      "Passed! Quantized to [0, 1]\n",
      "Passed! Quantized to [0, 1]\n",
      "Passed! Quantized to [0, 1]\n",
      "Passed! Quantized to [0, 1]\n",
      "Passed! Quantized to [0, 1]\n",
      "Passed! Quantized to [0, 1]\n",
      "Passed! Quantized to [0, 1]\n",
      "Passed! Quantized to [0, 1]\n",
      "Passed! Quantized to [0, 1]\n",
      "Passed! Quantized to [0, 1]\n",
      "Passed! Quantized to [0, 1]\n",
      "Passed! Quantized to [0, 1]\n",
      "Passed! Quantized to [0, 1]\n",
      "Passed! Quantized to [0, 1]\n"
     ]
    }
   ],
   "source": [
    "def resample_masks_and_images(validate=True):\n",
    "    print('Beginning augmentation.')\n",
    "    \n",
    "    from time import time\n",
    "    \n",
    "    start = time()\n",
    "\n",
    "    etl.augmentation_pipeline(hi_res_images_path, hi_res_masks_path,\n",
    "                              lo_res_images_path, lo_res_masks_path,\n",
    "                              n_jobs=16)\n",
    "    \n",
    "    print(f'Finished in {time() - start:.1f} s')\n",
    "\n",
    "    if validate:\n",
    "        etl.validate_augmentation(hi_res_images_path, hi_res_masks_path,\n",
    "                                  lo_res_images_path, lo_res_masks_path)\n",
    "\n",
    "if resample_masks_and_images(validate=True):\n",
    "    print('Resampling validation passed all tests.')"
   ]
  },
  {
   "cell_type": "markdown",
   "metadata": {},
   "source": [
    "# Visualizations\n"
   ]
  },
  {
   "cell_type": "code",
   "execution_count": 73,
   "metadata": {},
   "outputs": [
    {
     "name": "stdout",
     "output_type": "stream",
     "text": [
      "IMG #, NAME\n"
     ]
    },
    {
     "data": {
      "text/plain": [
       "[(0, 'SEG-1.nii.gz'),\n",
       " (1, 'SEG-103.nii.gz'),\n",
       " (2, 'SEG-126.nii.gz'),\n",
       " (3, 'SEG-129.nii.gz'),\n",
       " (4, 'SEG-135.nii.gz'),\n",
       " (5, 'SEG-137.nii.gz'),\n",
       " (6, 'SEG-142.nii.gz'),\n",
       " (7, 'SEG-155.nii.gz'),\n",
       " (8, 'SEG-179.nii.gz'),\n",
       " (9, 'SEG-198.nii.gz'),\n",
       " (10, 'SEG-205.nii.gz'),\n",
       " (11, 'SEG-25.nii.gz'),\n",
       " (12, 'SEG-253.nii.gz'),\n",
       " (13, 'SEG-272.nii.gz'),\n",
       " (14, 'SEG-288.nii.gz'),\n",
       " (15, 'SEG-314.nii.gz'),\n",
       " (16, 'SEG-357.nii.gz'),\n",
       " (17, 'SEG-360.nii.gz'),\n",
       " (18, 'SEG-38.nii.gz'),\n",
       " (19, 'SEG-440.nii.gz'),\n",
       " (20, 'SEG-456.nii.gz'),\n",
       " (21, 'SEG-459.nii.gz'),\n",
       " (22, 'SEG-460.nii.gz'),\n",
       " (23, 'SEG-506.nii.gz'),\n",
       " (24, 'SEG-524.nii.gz'),\n",
       " (25, 'SEG-543.nii.gz'),\n",
       " (26, 'SEG-555.nii.gz'),\n",
       " (27, 'SEG-586.nii.gz'),\n",
       " (28, 'SEG-593-2.nii.gz'),\n",
       " (29, 'SEG-593.nii.gz'),\n",
       " (30, 'SEG-603.nii.gz'),\n",
       " (31, 'SEG-636.nii.gz'),\n",
       " (32, 'SEG-643.nii.gz'),\n",
       " (33, 'SEG-679.nii.gz'),\n",
       " (34, 'SEG-686.nii.gz'),\n",
       " (35, 'SEG-693.nii.gz'),\n",
       " (36, 'SEG-695.nii.gz'),\n",
       " (37, 'SEG-70.nii.gz'),\n",
       " (38, 'SEG-708.nii.gz'),\n",
       " (39, 'SEG-751.nii.gz'),\n",
       " (40, 'SEG-752.nii.gz'),\n",
       " (41, 'SEG-754.nii.gz'),\n",
       " (42, 'SEG-773.nii.gz'),\n",
       " (43, 'SEG-776.nii.gz'),\n",
       " (44, 'SEG-83.nii.gz')]"
      ]
     },
     "execution_count": 73,
     "metadata": {},
     "output_type": "execute_result"
    }
   ],
   "source": [
    "mask_names = sorted(os.listdir(lo_res_masks_path))\n",
    "print('IMG #, NAME')\n",
    "list(zip(range(len(mask_names)), mask_names))"
   ]
  },
  {
   "cell_type": "code",
   "execution_count": 7,
   "metadata": {},
   "outputs": [],
   "source": [
    "aug_msks = etl.get_images(lo_res_masks_path, n = -1)\n",
    "aug_imgs = etl.get_images(lo_res_images_path, n = -1)"
   ]
  },
  {
   "cell_type": "code",
   "execution_count": 22,
   "metadata": {},
   "outputs": [],
   "source": [
    "heart_id = 43"
   ]
  },
  {
   "cell_type": "markdown",
   "metadata": {},
   "source": [
    "## Segmentations\n",
    "### Lo-res"
   ]
  },
  {
   "cell_type": "code",
   "execution_count": 61,
   "metadata": {
    "scrolled": true
   },
   "outputs": [
    {
     "data": {
      "application/vnd.jupyter.widget-view+json": {
       "model_id": "bdc74f4040f249428eed9a0c81668925",
       "version_major": 2,
       "version_minor": 0
      },
      "text/plain": [
       "Output()"
      ]
     },
     "metadata": {},
     "output_type": "display_data"
    }
   ],
   "source": [
    "etl.k3d_plot(aug_msks[heart_id])"
   ]
  },
  {
   "cell_type": "markdown",
   "metadata": {},
   "source": [
    "### Hi-res"
   ]
  },
  {
   "cell_type": "code",
   "execution_count": 24,
   "metadata": {
    "scrolled": false
   },
   "outputs": [],
   "source": [
    "#etl.k3d_plot(sample_masks_hi_res[heart_id])"
   ]
  },
  {
   "cell_type": "markdown",
   "metadata": {},
   "source": [
    "## Images\n",
    "### Lo-res"
   ]
  },
  {
   "cell_type": "code",
   "execution_count": 70,
   "metadata": {
    "scrolled": false
   },
   "outputs": [
    {
     "data": {
      "application/vnd.jupyter.widget-view+json": {
       "model_id": "d1d383d0eef645d9b3f4abbe79147f20",
       "version_major": 2,
       "version_minor": 0
      },
      "text/plain": [
       "Output()"
      ]
     },
     "metadata": {},
     "output_type": "display_data"
    }
   ],
   "source": [
    "etl.k3d_plot(aug_imgs[heart_id], color_range=[0, 300])"
   ]
  },
  {
   "cell_type": "markdown",
   "metadata": {},
   "source": [
    "### Hi-res"
   ]
  },
  {
   "cell_type": "code",
   "execution_count": 12,
   "metadata": {},
   "outputs": [],
   "source": [
    "#etl.k3d_plot(sample_images_hi_res[heart_id], color_range=[100, 300]) "
   ]
  },
  {
   "cell_type": "markdown",
   "metadata": {},
   "source": [
    "## Cropping Visualization"
   ]
  },
  {
   "cell_type": "code",
   "execution_count": 94,
   "metadata": {},
   "outputs": [
    {
     "data": {
      "text/plain": [
       "<matplotlib.image.AxesImage at 0x7f5f7c3a2c18>"
      ]
     },
     "execution_count": 94,
     "metadata": {},
     "output_type": "execute_result"
    },
    {
     "data": {
      "image/png": "[encoded data removed]",
      "text/plain": [
       "<Figure size 432x288 with 1 Axes>"
      ]
     },
     "metadata": {
      "needs_background": "light"
     },
     "output_type": "display_data"
    }
   ],
   "source": [
    "etl.imshow_sitk(image[:,:,96])"
   ]
  },
  {
   "cell_type": "code",
   "execution_count": 124,
   "metadata": {},
   "outputs": [],
   "source": [
    "import matplotlib.pyplot as plt\n",
    "from matplotlib.patches import Rectangle\n",
    "from PIL import Image\n",
    "\n",
    "im = sitk.ReadImage(os.path.join(hi_res_masks_path, 'SEG-253.nii.gz'))\n",
    "im = sitk.GetArrayFromImage(image[:,:,96])\n",
    "\n",
    "x = im.shape[0]\n",
    "y = im.shape[1]"
   ]
  },
  {
   "cell_type": "code",
   "execution_count": 129,
   "metadata": {},
   "outputs": [
    {
     "data": {
      "text/plain": [
       "Text(0.5, 1.0, 'Dynamic Ratio Cropping')"
      ]
     },
     "execution_count": 129,
     "metadata": {},
     "output_type": "execute_result"
    },
    {
     "data": {
      "image/png": "[encoded data removed]",
      "text/plain": [
       "<Figure size 432x288 with 1 Axes>"
      ]
     },
     "metadata": {
      "needs_background": "light"
     },
     "output_type": "display_data"
    }
   ],
   "source": [
    "diff_x = 200\n",
    "diff_y = 200\n",
    "ratio_x = 0.3\n",
    "ratio_y = 0.85\n",
    "\n",
    "plt.imshow(im)\n",
    "\n",
    "ax = plt.gca()\n",
    "\n",
    "top_x = int(ratio_x * diff_x)\n",
    "top_y = int(ratio_y * diff_y)\n",
    "bot_x = x - top_x - (1 - ratio_x)*diff_x\n",
    "bot_y = y - top_y - (1 - ratio_y)*diff_y\n",
    "rect = Rectangle((top_x, top_y), bot_x, bot_y,linewidth=1,edgecolor='r',facecolor='none')\n",
    "\n",
    "ax.add_patch(rect)\n",
    "plt.title('Dynamic Ratio Cropping')"
   ]
  },
  {
   "cell_type": "code",
   "execution_count": 126,
   "metadata": {},
   "outputs": [
    {
     "data": {
      "text/plain": [
       "Text(0.5, 1.0, 'Fixed Ratio Cropping')"
      ]
     },
     "execution_count": 126,
     "metadata": {},
     "output_type": "execute_result"
    },
    {
     "data": {
      "image/png": "[encoded data removed]",
      "text/plain": [
       "<Figure size 432x288 with 1 Axes>"
      ]
     },
     "metadata": {
      "needs_background": "light"
     },
     "output_type": "display_data"
    }
   ],
   "source": [
    "ratio_x = 0.5\n",
    "ratio_y = 0.5\n",
    "\n",
    "plt.imshow(im)\n",
    "ax = plt.gca()\n",
    "\n",
    "\n",
    "top_x = int(ratio_x * diff_x)\n",
    "top_y = int(ratio_y * diff_y)\n",
    "bot_x = x - top_x - (1 - ratio_x)*diff_x\n",
    "bot_y = y - top_y - (1 - ratio_y)*diff_y\n",
    "rect = Rectangle((top_x, top_y), bot_x, bot_y,linewidth=1,edgecolor='r',facecolor='none')\n",
    "\n",
    "ax.add_patch(rect)\n",
    "plt.title('Fixed Ratio Cropping')"
   ]
  },
  {
   "cell_type": "code",
   "execution_count": null,
   "metadata": {},
   "outputs": [],
   "source": []
  }
 ],
 "metadata": {
  "kernelspec": {
   "display_name": "Python 3",
   "language": "python",
   "name": "python3"
  },
  "language_info": {
   "codemirror_mode": {
    "name": "ipython",
    "version": 3
   },
   "file_extension": ".py",
   "mimetype": "text/x-python",
   "name": "python",
   "nbconvert_exporter": "python",
   "pygments_lexer": "ipython3",
   "version": "3.6.9"
  }
 },
 "nbformat": 4,
 "nbformat_minor": 4
}
